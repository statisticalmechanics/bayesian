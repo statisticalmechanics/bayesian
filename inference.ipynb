{
 "cells": [
  {
   "cell_type": "markdown",
   "metadata": {},
   "source": [
    "# A Note on Hypothesis Testing and Bayesian Inference\n",
    "\n",
    "#### Kai Zhang, Columbia University, 2018\n",
    "\n",
    "##### References:\n",
    "1. Probability and Statistics for Engineering and the Sciences by Jay L. Devore\n",
    "2. Bayesian Statistics: An Introduction by  Peter M. Lee\n",
    "3. Data Analysis: An Bayesian Tutorial by  D. S. Sivia and J. Skilling\n",
    "4. An Introduction to Statistical Learning by James, G., Witten, D., Hastie, T., Tibshirani, R.\n",
    "5. Probability Theory: The Logic of Science by  E. T. Jaynes\n",
    "\n",
    "\n",
    "##### Notes:\n",
    "1. Section 0 Background is for readers not familiar with Gaussian distribution, and can otherwise be skipped.\n",
    "2. Cells containing code that makes certain plots can be hidden by clicking on the links provided."
   ]
  },
  {
   "cell_type": "code",
   "execution_count": 12,
   "metadata": {},
   "outputs": [],
   "source": [
    "import math\n",
    "import matplotlib.pyplot as plt\n",
    "import numpy as np\n",
    "from scipy import stats\n",
    "import statsmodels.api as sm"
   ]
  },
  {
   "cell_type": "code",
   "execution_count": 2,
   "metadata": {},
   "outputs": [],
   "source": [
    "from IPython.display import HTML\n",
    "from IPython.display import display"
   ]
  },
  {
   "cell_type": "markdown",
   "metadata": {},
   "source": [
    "# 0. Background"
   ]
  },
  {
   "cell_type": "markdown",
   "metadata": {},
   "source": [
    "### 0.1 Normal Distribution (Gaussian Distribution)\n",
    "\n",
    "The random variable $X$ has a __normal distribution__ with mean $\\mu$ and variance $\\sigma^2$: $X \\sim N(\\mu, \\sigma^2)$, if the __probability density function__ (pdf)  of $X$  (Figure 1) is\n",
    " \n",
    "\\begin{equation}\n",
    "f(x; \\mu, \\sigma) = \\frac{1}{\\sqrt{2\\pi\\sigma^2}} e^{-\\frac{(x-\\mu)^2}{2\\sigma^2}}, ~~~ -\\infty<x<\\infty\n",
    "\\end{equation}"
   ]
  },
  {
   "cell_type": "code",
   "execution_count": 3,
   "metadata": {},
   "outputs": [],
   "source": [
    "def Gaussian(x, mu, sigma):\n",
    "    return 1.0 / math.sqrt(2.0*math.pi*sigma**2) * np.exp(-(x-mu)**2/2/sigma**2 )"
   ]
  },
  {
   "cell_type": "code",
   "execution_count": 4,
   "metadata": {},
   "outputs": [
    {
     "data": {
      "text/html": [
       "<script>\n",
       "code_show=true; \n",
       "function code_toggle() {\n",
       "    if (code_show){\n",
       "        $('div.cell.code_cell.rendered.selected div.input').hide();\n",
       "    } else {\n",
       "        $('div.cell.code_cell.rendered.selected div.input').show();\n",
       "    }\n",
       "    code_show = !code_show\n",
       "} \n",
       "$( document ).ready(code_toggle);\n",
       "</script>\n",
       "To show/hide code making this plot, click <a href=\"javascript:code_toggle()\">here</a>."
      ],
      "text/plain": [
       "<IPython.core.display.HTML object>"
      ]
     },
     "metadata": {},
     "output_type": "display_data"
    },
    {
     "data": {
      "image/png": "[encoded data removed]",
      "text/plain": [
       "<matplotlib.figure.Figure at 0x1140175f8>"
      ]
     },
     "metadata": {},
     "output_type": "display_data"
    }
   ],
   "source": [
    "tag = HTML('''<script>\n",
    "code_show=true; \n",
    "function code_toggle() {\n",
    "    if (code_show){\n",
    "        $('div.cell.code_cell.rendered.selected div.input').hide();\n",
    "    } else {\n",
    "        $('div.cell.code_cell.rendered.selected div.input').show();\n",
    "    }\n",
    "    code_show = !code_show\n",
    "} \n",
    "$( document ).ready(code_toggle);\n",
    "</script>\n",
    "To show/hide code making this plot, click <a href=\"javascript:code_toggle()\">here</a>.''')\n",
    "display(tag)\n",
    "\n",
    "fig = plt.figure()\n",
    "mu = 3.5\n",
    "sigma = 5\n",
    "xmin = mu - 5*sigma\n",
    "xmax = mu + 5*sigma\n",
    "ymax = 1.0 / np.sqrt(2.0*math.pi*sigma**2)\n",
    "x = np.arange(xmin,xmax, 0.1)\n",
    "y = Gaussian(x, mu, sigma)\n",
    "\n",
    "fsigma = Gaussian(mu+sigma, mu, sigma)\n",
    "\n",
    "plt.plot(x, y, 'k-')\n",
    "plt.plot([mu, mu], [0, ymax], 'k--')\n",
    "plt.annotate(s='', xy=(mu-sigma,fsigma), xytext=(mu+sigma,fsigma), arrowprops=dict(arrowstyle='<->'))\n",
    "\n",
    "plt.text(mu-sigma/2,fsigma*(1+0.05), '$2\\sigma$',fontsize=20)\n",
    "plt.text(mu-sigma/4, -ymax*0.08, '$\\mu$', fontsize=20)\n",
    "\n",
    "plt.xlabel('x', fontsize=25)\n",
    "plt.ylabel('f(x; {}, {})'.format(mu, sigma), fontsize=25)\n",
    "plt.ylim(0, ymax*(1+0.1))\n",
    "txt=\"Figure 1. Normal distribution.\"\n",
    "fig.text(0.5, -0.1, txt, ha='center', fontsize=20)\n",
    "plt.show()"
   ]
  },
  {
   "cell_type": "markdown",
   "metadata": {},
   "source": [
    "### 0.2 Standard Normal Distribution\n",
    "\n",
    "If $X \\sim N(\\mu, \\sigma^2)$, then $Z = \\frac{X-\\mu}{\\sigma}\\sim N(0, 1)$ has a __standard normal distribution__ with pdf\n",
    "\n",
    "\\begin{equation}\n",
    "f(z) = \\frac{1}{\\sqrt{2\\pi}} e^{-\\frac{z^2}{2}}, ~~~ -\\infty<z<\\infty\n",
    "\\end{equation}\n",
    "\n",
    "The __Cumulative Distribution Function__ (CDF) of $Z$ is\n",
    "\n",
    "$\\Phi(z) \\equiv P(Z \\le z) = \\int_{-\\infty}^z f(z') dz'$\n",
    "\n",
    "$z_{\\alpha}$ denotes the value of $z$ such that $P(Z > z_{\\alpha}) = 1 - \\Phi(z_{\\alpha}) = \\alpha$ or $P(Z \\le z_{\\alpha})=1-\\alpha$, e.g. $\\Phi(z_{0.05}=1.645) = 0.95$ (Figure 2a).\n",
    "\n",
    "$z_{\\alpha/2}$ denotes the value of $z$ such that $P(Z > z_{\\alpha/2}) =  1 - \\Phi(z_{\\alpha/2})  = \\alpha/2$ or $P(-z_{\\alpha/2} \\le Z \\le z_{\\alpha/2})=1-\\alpha$, e.g. $\\Phi(z_{0.05/2}=1.96) = 0.975$ (Figure 2b)."
   ]
  },
  {
   "cell_type": "code",
   "execution_count": 5,
   "metadata": {},
   "outputs": [
    {
     "data": {
      "text/html": [
       "<script>\n",
       "code_show=true; \n",
       "function code_toggle() {\n",
       "    if (code_show){\n",
       "        $('div.cell.code_cell.rendered.selected div.input').hide();\n",
       "    } else {\n",
       "        $('div.cell.code_cell.rendered.selected div.input').show();\n",
       "    }\n",
       "    code_show = !code_show\n",
       "} \n",
       "$( document ).ready(code_toggle);\n",
       "</script>\n",
       "To show/hide code making this plot, click <a href=\"javascript:code_toggle()\">here</a>."
      ],
      "text/plain": [
       "<IPython.core.display.HTML object>"
      ]
     },
     "metadata": {},
     "output_type": "display_data"
    },
    {
     "data": {
      "image/png": "[encoded data removed]",
      "text/plain": [
       "<matplotlib.figure.Figure at 0x1140175c0>"
      ]
     },
     "metadata": {},
     "output_type": "display_data"
    }
   ],
   "source": [
    "tag = HTML('''<script>\n",
    "code_show=true; \n",
    "function code_toggle() {\n",
    "    if (code_show){\n",
    "        $('div.cell.code_cell.rendered.selected div.input').hide();\n",
    "    } else {\n",
    "        $('div.cell.code_cell.rendered.selected div.input').show();\n",
    "    }\n",
    "    code_show = !code_show\n",
    "} \n",
    "$( document ).ready(code_toggle);\n",
    "</script>\n",
    "To show/hide code making this plot, click <a href=\"javascript:code_toggle()\">here</a>.''')\n",
    "display(tag)\n",
    "\n",
    "fig = plt.figure(figsize=(14,5))\n",
    "fig.suptitle('Standard Normal Distribution', fontsize=20)\n",
    "mu = 0\n",
    "sigma = 1\n",
    "xmin = mu - 5*sigma\n",
    "xmax = mu + 5*sigma\n",
    "ymax = 1.0 / np.sqrt(2.0*math.pi*sigma**2)\n",
    "x = np.arange(xmin,xmax, 0.1)\n",
    "y = Gaussian(x, mu, sigma)\n",
    "\n",
    "fig1=plt.subplot(121)\n",
    "plt.plot(x, y, 'k-')\n",
    "z0  = 1.645\n",
    "z = np.arange(xmin,z0, 0.1)\n",
    "fz = Gaussian(z, mu, sigma)\n",
    "plt.fill_between(z, 0, fz,color = 'k', alpha = 0.5)\n",
    "\n",
    "plt.xlabel('z', fontsize=25)\n",
    "plt.ylabel('f(z)', fontsize=25)\n",
    "plt.ylim(0, ymax*(1+0.1))\n",
    "txt=\"Figure 2a. $\\Phi(z_{0.05})=0.95$ at $z_{0.05}=1.645$\"\n",
    "fig1.text(0.5, -0.1, txt, ha='center', fontsize=15)\n",
    "plt.text(-1.8, 0.05, '$\\Phi(z_{0.05})=0.95$', fontsize=15)\n",
    "plt.text(1.8, 0.01, '$\\\\alpha$', fontsize=15)\n",
    "\n",
    "\n",
    "fig2=plt.subplot(122)\n",
    "plt.plot(x, y, 'k-')\n",
    "\n",
    "z0  = 1.96\n",
    "z = np.arange(-z0,z0, 0.1)\n",
    "fz = Gaussian(z, mu, sigma)\n",
    "plt.fill_between(z, 0, fz, color = 'k', alpha = 0.5)\n",
    "\n",
    "z = np.arange(xmin,z0, 0.1)\n",
    "fz = Gaussian(z, mu, sigma)\n",
    "plt.fill_between(z, 0, fz, color = 'k',alpha=0.2)\n",
    "\n",
    "plt.xlabel('z', fontsize=25)\n",
    "plt.ylabel('f(z)', fontsize=25)\n",
    "plt.ylim(0, ymax*(1+0.1))\n",
    "txt=\"Figure 2b. $\\Phi(z_{0.05/2})=0.975$ at $z_{0.025}=1.96$\"\n",
    "fig2.text(0.5, -0.1, txt, ha='center', fontsize=15)\n",
    "plt.text(-1.5, 0.05, '$1 - \\\\alpha = 0.95$ ',fontsize=15) # r'1- $ \\alpha $'\n",
    "plt.text(-2.5, 0.01, '$\\Phi(z_{0.05/2})=0.975$', fontsize=15)\n",
    "plt.text(2, 0.01, '$\\\\alpha / 2$', fontsize=15)\n",
    "\n",
    "\n",
    "\n",
    "plt.show()"
   ]
  },
  {
   "cell_type": "code",
   "execution_count": null,
   "metadata": {},
   "outputs": [],
   "source": []
  },
  {
   "cell_type": "markdown",
   "metadata": {},
   "source": [
    "### 0.3 Central Limt Theorem and Point Estimation\n",
    "\n",
    "The __Central Limit Theorem__ (CLT)\n",
    "\n",
    "If $X_1$, $X_2$, ..., $X_n$ is a random sample from a (any) distribution with (population) mean $\\mu$ and variance $\\sigma^2$, then the __sample mean__ $\\bar{X} = \\sum_{i=1}^n X_i / n \\sim N(\\mu, \\sigma^2/n)$ or $Z= \\frac{\\bar{X} - \\mu}{ \\sigma/\\sqrt{n} }\\sim N(0, 1)$, as $n \\rightarrow \\infty$.\n",
    "\n",
    ">$\\bar{X} = \\sum_{i=1}^n X_i / n$ is an unbiased estimator of $\\mu$;\n",
    "\n",
    ">$S^2 = \\sum_{i=1}^n (X_i - \\bar{X})^2 / (n-1)$ is an unbiased estimator of $\\sigma^2$.\n",
    "\n",
    "A point estimator $\\hat{\\theta}$ of $\\theta$ is an __unbiased estimator__, if $E(\\hat{\\theta}) = \\theta$.\n",
    "\n",
    "\n"
   ]
  },
  {
   "cell_type": "markdown",
   "metadata": {},
   "source": [
    "### 0.4 $z$-distribution\n",
    "If $X_1$, $X_2$, ..., $X_n$ is a random sample of <font color=red>large</font> size $n$ from a (any) distribution with  mean $\\mu$ (the variance $\\sigma^2$ is unknown), then\n",
    "\\begin{equation}\n",
    "Z = \\frac{\\bar{X} - \\mu}{ S / \\sqrt{n}} \\sim N(0, 1), ~ {\\rm as} ~ n \\rightarrow \\infty.\n",
    "\\end{equation}"
   ]
  },
  {
   "cell_type": "markdown",
   "metadata": {},
   "source": [
    "### 0.5 $t$-distribution\n",
    "If $X_1$, $X_2$, ..., $X_n$ is a random sample of size $n$ (not necessarily large) from a <font color=red>normal</font> distribution with  mean $\\mu$ (the variance $\\sigma^2$ is unknown), then\n",
    "\\begin{equation}\n",
    "T = \\frac{\\bar{X} - \\mu}{ S / \\sqrt{n}}\n",
    "\\end{equation}\n",
    "has a Student's __$t$-distribution__ with the pdf\n",
    "\\begin{equation}\n",
    "f_{\\nu}(t) = \\frac{\\Gamma(\\frac{\\nu+1}{2})}{\\sqrt{\\nu\\pi}\\Gamma(\\frac{\\nu}{2})} \\left( 1 + \\frac{t^2}{\\nu}\\right)^{-\\frac{\\nu+1}{2}},\n",
    "\\end{equation}\n",
    "where $\\nu=n-1$ is the number of degrees of freedom (Figure 3).\n",
    "\n",
    ">$t_{\\alpha, \\nu}$ denotes the value of $t$ such that  $\\int_{-\\infty}^{t_{\\alpha, \\nu}} f_{\\nu}(t) dt = 1 - \\alpha $.\n",
    "\n",
    ">$t_{\\alpha/2, \\nu}$ denotes the value of $t$ such that  $\\int_{-t_{\\alpha/2, \\nu}}^{t_{\\alpha/2, \\nu}} f_{\\nu}(t) dt = 1 - \\alpha $."
   ]
  },
  {
   "cell_type": "code",
   "execution_count": 6,
   "metadata": {},
   "outputs": [],
   "source": [
    "def StudentT(t, nu):\n",
    "    return math.gamma((nu+1)/2) / math.sqrt(nu*math.pi)/math.gamma(nu/2) * (1 + t**2 / nu)**(-(nu+1)/2)"
   ]
  },
  {
   "cell_type": "code",
   "execution_count": 7,
   "metadata": {},
   "outputs": [
    {
     "data": {
      "text/html": [
       "<script>\n",
       "code_show=true; \n",
       "function code_toggle() {\n",
       "    if (code_show){\n",
       "        $('div.cell.code_cell.rendered.selected div.input').hide();\n",
       "    } else {\n",
       "        $('div.cell.code_cell.rendered.selected div.input').show();\n",
       "    }\n",
       "    code_show = !code_show\n",
       "} \n",
       "$( document ).ready(code_toggle);\n",
       "</script>\n",
       "To show/hide code making this plot, click <a href=\"javascript:code_toggle()\">here</a>."
      ],
      "text/plain": [
       "<IPython.core.display.HTML object>"
      ]
     },
     "metadata": {},
     "output_type": "display_data"
    },
    {
     "data": {
      "image/png": "[encoded data removed]",
      "text/plain": [
       "<matplotlib.figure.Figure at 0x114198208>"
      ]
     },
     "metadata": {},
     "output_type": "display_data"
    }
   ],
   "source": [
    "tag = HTML('''<script>\n",
    "code_show=true; \n",
    "function code_toggle() {\n",
    "    if (code_show){\n",
    "        $('div.cell.code_cell.rendered.selected div.input').hide();\n",
    "    } else {\n",
    "        $('div.cell.code_cell.rendered.selected div.input').show();\n",
    "    }\n",
    "    code_show = !code_show\n",
    "} \n",
    "$( document ).ready(code_toggle);\n",
    "</script>\n",
    "To show/hide code making this plot, click <a href=\"javascript:code_toggle()\">here</a>.''')\n",
    "display(tag)\n",
    "\n",
    "fig = plt.figure()\n",
    "\n",
    "xmin = -5\n",
    "xmax = 5\n",
    "ymax = 1.0 / np.sqrt(2.0*math.pi)\n",
    "x = np.arange(xmin,xmax, 0.1)\n",
    "\n",
    "y = StudentT(x, 1)\n",
    "plt.plot(x, y, 'r-')\n",
    "\n",
    "y = StudentT(x, 2)\n",
    "plt.plot(x, y, 'b-')\n",
    "\n",
    "y = StudentT(x, 10)\n",
    "plt.plot(x, y, 'g-')\n",
    "\n",
    "y = Gaussian(x, 0, 1)\n",
    "plt.plot(x, y, 'k--')\n",
    "\n",
    "plt.legend(['$\\\\nu=1$', '$\\\\nu=2$','$\\\\nu=10$','$N(0,1)$'])\n",
    "plt.xlabel('t', fontsize=25)\n",
    "plt.ylabel('$f_{\\\\nu}(t)$', fontsize=25)\n",
    "plt.ylim(0, ymax*(1+0.1))\n",
    "txt=\"Figure 3. Student's t-distribution.\"\n",
    "fig.text(0.5, -0.1, txt, ha='center', fontsize=20)\n",
    "plt.show()"
   ]
  },
  {
   "cell_type": "markdown",
   "metadata": {},
   "source": [
    "# 1. Hypothesis Testing"
   ]
  },
  {
   "cell_type": "markdown",
   "metadata": {},
   "source": [
    "### 1.1 One-Sample $t$-Test and $p$-Value\n",
    "__Example__ 1.1 Consider a  sequence of $n=10$ random numbers drawn from a normal distribution with certain population mean $\\mu$, \n",
    "\n",
    "$X=$ $[ 22.82873879, 26.99469089, 25.565957, 21.98741057, 23.8427995, 28.30287307, 20.14664151, 24.14217474, 27.53187252,23.2665192]$\n",
    "\n",
    "for which the sample mean is $\\bar{X} = 24.460967779347346 = \\bar{x}$ and the sample variance is $S^2 = 6.793109165375726 = s^2$. \n",
    "\n",
    "Question:  Given the sampled data $\\bar{x}$,  how confident, or more technically,  at what statistical significance level, can we accept the assumption that $\\mu = 25 = \\mu_0$?\n",
    "\n",
    "To answer this question, we need a measure of the deviation $|\\bar{X} - 25|$ of our sample mean $\\bar{X}$ from the assumed population mean $25$. Qualitatively, if $|\\bar{X} - 25|$  is small, we could confidently say the difference between $\\bar{X}$  and $25$ is caused by statistical fluctuation of the sample, and thus accept that $\\mu$ is indeed $25$. On the other hand, if $|\\bar{X} - 25|$  is too large to be accounted for by statistical error, we should reject the claim that $\\mu=25$.\n",
    "\n",
    "Let's go over the above procedure quantitatively using the rules of statistics.\n",
    "\n",
    "The standardized deviation of the sample mean from the population mean to be tested is described by the __$t$-statistic__ \n",
    "\\begin{equation}\n",
    "t = \\frac{\\bar{x} - \\mu_0}{ s / \\sqrt{n}} = \\frac{24.460967779347346 - 25}{\\sqrt{6.793109165375726} / \\sqrt{10}} =  -0.6540040368674571.\n",
    "\\end{equation}\n",
    "\n",
    "The random variable $T = \\frac{\\bar{X} - \\mu}{ S / \\sqrt{n}} $ follows the $t$-distribution with $n-1=9$ degrees of freedom, for which we can calculate the probability that $T<|t|$ and $T>|t|$, using the pdf $f_9(t)$.\n",
    "\n",
    "The probability $P(T>|t|)$ is called the __$p$-value__.\n",
    "\n",
    "In this particular example, $p$-value $= P(T < -0.6540040368674571 ~ or ~ T > 0.6540040368674571 ) = 0.5294637946339908$.\n",
    "\n",
    "That is to say, assuming the true population mean is $25$, we have more than $50\\%$ chance getting a sample mean value of $24.460967779347346$ (or a standarized $|t|$ value of 0.654 or larger). In another word, it is not surprise to see a sample mean of this value given $\\mu=25$ and we should probably accept that $\\mu$ is indeed $25$.\n",
    "\n",
    "If, on the other hand, we observe $\\bar{X}=10$ with a $p$-value of 0.0001, we should conclude that it is extremely unlikely for a true population mean of $25$ to result in such a sample mean of $10$. Therefore, we should reject the assumption that $\\mu = 25$.\n",
    "\n",
    "Practically, we  prespecify a __significance level $\\alpha$__, e.g. $\\alpha=0.05$ or $0.01$ as often used, and compare $p$-value with $\\alpha$ (Figure 4).\n",
    "\n",
    ">If $p$-value $>\\alpha$ (or $t < |t_{\\alpha/2, \\nu}|$), we accept the hypothesis that $\\mu = 25$;\n",
    "\n",
    ">If $p$-value $<\\alpha$ (or $t > |t_{\\alpha/2, \\nu}|$), we reject the hypothesis that $\\mu = 25$, but accept the alternative claim that $\\mu \\ne 25$.\n",
    "\n",
    "This statistical inference process of testing a claim (hypothesis) using a sampled value $\\bar{X}$, assuming  the standardized $\\bar{X}$ follows the $t$-distribution, is called __$t$-test__."
   ]
  },
  {
   "cell_type": "code",
   "execution_count": 8,
   "metadata": {},
   "outputs": [
    {
     "data": {
      "text/html": [
       "<script>\n",
       "code_show=true; \n",
       "function code_toggle() {\n",
       "    if (code_show){\n",
       "        $('div.cell.code_cell.rendered.selected div.input').hide();\n",
       "    } else {\n",
       "        $('div.cell.code_cell.rendered.selected div.input').show();\n",
       "    }\n",
       "    code_show = !code_show\n",
       "} \n",
       "$( document ).ready(code_toggle);\n",
       "</script>\n",
       "To show/hide the code for above sampling, click <a href=\"javascript:code_toggle()\">here</a>."
      ],
      "text/plain": [
       "<IPython.core.display.HTML object>"
      ]
     },
     "metadata": {},
     "output_type": "display_data"
    },
    {
     "name": "stdout",
     "output_type": "stream",
     "text": [
      "X samples: [22.82873879 26.99469089 25.565957   21.98741057 23.8427995  28.30287307\n",
      " 20.14664151 24.14217474 27.53187252 23.2665192 ]\n",
      "sample mean:  24.460967779347346\n",
      "sample variance:  6.793109165375726\n",
      "t-statistic:  -0.6540040368674571\n",
      "p-value =  0.5294637946339908\n"
     ]
    },
    {
     "data": {
      "text/plain": [
       "Ttest_1sampResult(statistic=-0.6540040368674571, pvalue=0.5294637946339908)"
      ]
     },
     "execution_count": 8,
     "metadata": {},
     "output_type": "execute_result"
    }
   ],
   "source": [
    "tag = HTML('''<script>\n",
    "code_show=true; \n",
    "function code_toggle() {\n",
    "    if (code_show){\n",
    "        $('div.cell.code_cell.rendered.selected div.input').hide();\n",
    "    } else {\n",
    "        $('div.cell.code_cell.rendered.selected div.input').show();\n",
    "    }\n",
    "    code_show = !code_show\n",
    "} \n",
    "$( document ).ready(code_toggle);\n",
    "</script>\n",
    "To show/hide the code for above sampling, click <a href=\"javascript:code_toggle()\">here</a>.''')\n",
    "display(tag)\n",
    "\n",
    "np.random.seed(seed=123)\n",
    "n = 10\n",
    "mu = 25\n",
    "sigma = 2\n",
    "x = sigma*np.random.randn(n)+mu # Gaussian random number with mean mu and variance sigma^2 \n",
    "print('X samples:', x)\n",
    "x_mean = np.mean(x)\n",
    "s2= np.var(x,ddof=1) # / (n-1)  #x_std = np.std(x)\n",
    "t_stat = (x_mean - mu) /  math.sqrt(s2/n)\n",
    "p_value_one_tail = stats.t.cdf(t_stat,n-1)\n",
    "p_value_two_tail = p_value_one_tail * 2\n",
    "t_alpha = stats.t.ppf(p_value_one_tail, n-1)\n",
    "print('sample mean: ', x_mean)\n",
    "print ('sample variance: ', s2)\n",
    "print ('t-statistic: ', t_stat)\n",
    "#print(p_value_one_tail, p_value_two_tail, t_alpha)\n",
    "print ('p-value = ',p_value_two_tail)\n",
    "\n",
    "# or a direct method to perform one sample t-test\n",
    "stats.ttest_1samp(x, mu)"
   ]
  },
  {
   "cell_type": "markdown",
   "metadata": {},
   "source": [
    "### 1.2 Hypothesis Testing (One-Sample $t$-Test)\n",
    "\n",
    "The underlying assumption (Section 0.5):\n",
    "\n",
    "If $X_1$, $X_2$, ..., $X_n$ is a random sample of size $n$ (not necessarily large) from a <font color=red>normal</font> distribution with  mean $\\mu$ (the variance $\\sigma^2$ could be unknown), then the standardized random variable\n",
    "\\begin{equation}\n",
    "T = \\frac{\\bar{X} - \\mu}{ S / \\sqrt{n}}\n",
    "\\end{equation}\n",
    "has a Student's __$t$-distribution__  with $\\nu=n-1$ number of degrees of freedom.\n",
    "\n",
    "__$t$-test__ (Figure 4):\n",
    "\n",
    ">__null hypothesis__ $H_0$: $\\mu = \\mu_0$\n",
    "\n",
    ">__alternative hypothesis__ $H_a$: $\\mu \\ne \\mu_0$ (or other versions $\\mu > \\mu_0$, $\\mu < \\mu_0$  )\n",
    "\n",
    ">__$t$-statistic__: $t = \\frac{\\bar{x} - \\mu_0}{ s / \\sqrt{n}}$ \n",
    "\n",
    ">__$p$-value__: $P(T > |t|) = 1- \\int_{-t_{\\alpha/2, \\nu}}^{t_{\\alpha/2, \\nu}} f_{\\nu}(t) dt$ assuming $H_0$ is true. \n",
    "\n",
    "For a given __significance level $\\alpha$__,\n",
    "\n",
    ">__acceptance__ region:  $p$-value $>\\alpha$ (or $t < |t_{\\alpha/2, \\nu}|$)\n",
    "\n",
    ">__rejection__ region:  $p$-value $<\\alpha$ (or $t > |t_{\\alpha/2, \\nu}|$)"
   ]
  },
  {
   "cell_type": "code",
   "execution_count": 9,
   "metadata": {},
   "outputs": [
    {
     "data": {
      "text/html": [
       "<script>\n",
       "code_show=true; \n",
       "function code_toggle() {\n",
       "    if (code_show){\n",
       "        $('div.cell.code_cell.rendered.selected div.input').hide();\n",
       "    } else {\n",
       "        $('div.cell.code_cell.rendered.selected div.input').show();\n",
       "    }\n",
       "    code_show = !code_show\n",
       "} \n",
       "$( document ).ready(code_toggle);\n",
       "</script>\n",
       "To show/hide code making this plot, click <a href=\"javascript:code_toggle()\">here</a>."
      ],
      "text/plain": [
       "<IPython.core.display.HTML object>"
      ]
     },
     "metadata": {},
     "output_type": "display_data"
    },
    {
     "data": {
      "image/png": "[encoded data removed]",
      "text/plain": [
       "<matplotlib.figure.Figure at 0x1147efe10>"
      ]
     },
     "metadata": {},
     "output_type": "display_data"
    }
   ],
   "source": [
    "tag = HTML('''<script>\n",
    "code_show=true; \n",
    "function code_toggle() {\n",
    "    if (code_show){\n",
    "        $('div.cell.code_cell.rendered.selected div.input').hide();\n",
    "    } else {\n",
    "        $('div.cell.code_cell.rendered.selected div.input').show();\n",
    "    }\n",
    "    code_show = !code_show\n",
    "} \n",
    "$( document ).ready(code_toggle);\n",
    "</script>\n",
    "To show/hide code making this plot, click <a href=\"javascript:code_toggle()\">here</a>.''')\n",
    "display(tag)\n",
    "\n",
    "fig = plt.figure()\n",
    "\n",
    "xmin = -5\n",
    "xmax = 5\n",
    "ymax = 1.0 / np.sqrt(2.0*math.pi)\n",
    "x = np.arange(xmin,xmax, 0.1)\n",
    "\n",
    "nu = 5\n",
    "y = StudentT(x, nu)\n",
    "plt.plot(x, y, 'b-')\n",
    "\n",
    "alpha = 0.05\n",
    "ta = stats.t.ppf(1- alpha/2, nu)\n",
    "t = np.arange(xmin,-ta, 0.1)\n",
    "ft = StudentT(t, nu)\n",
    "plt.fill_between(t, 0, ft, color = 'k', alpha = 0.5)\n",
    "t = np.arange(ta,xmax, 0.1)\n",
    "ft = StudentT(t, nu)\n",
    "plt.fill_between(t, 0, ft, color = 'k', alpha = 0.5)\n",
    "\n",
    "\n",
    "t0 = 2\n",
    "t = np.arange(xmin,-t0, 0.1)\n",
    "ft = StudentT(t, nu)\n",
    "plt.fill_between(t, 0, ft, color = 'k', alpha = 0.2)\n",
    "t = np.arange(t0,xmax, 0.1)\n",
    "ft = StudentT(t, nu)\n",
    "plt.fill_between(t, 0, ft, color = 'k', alpha = 0.2)\n",
    "\n",
    "\n",
    "plt.text(2.5, 0.05, '$\\\\alpha/2=0.025$', fontsize=15)\n",
    "plt.text(-5.2, 0.05, '$\\\\alpha/2=0.025$', fontsize=15)\n",
    "\n",
    "plt.text(ta-0.2, -0.05, '$t_{\\\\alpha/2}$', fontsize=15)\n",
    "plt.text(-ta-1, -0.05, '$-t_{\\\\alpha/2}$', fontsize=15)\n",
    "\n",
    "\n",
    "plt.plot([xmin, -ta], [-0.005, -0.005], 'r-', lw =5)\n",
    "plt.plot([ta, xmax], [-0.005, -0.005], 'r-', lw =5)\n",
    "plt.plot([-ta, ta], [-0.005, -0.005], 'g-', lw =5)\n",
    "\n",
    "\n",
    "plt.plot(t0, 0, 'kx')\n",
    "plt.text(0-0.1, 0.025, '$H_0$', fontsize=15, color='g')\n",
    "\n",
    "\n",
    "\n",
    "plt.xlabel('t', fontsize=25)\n",
    "plt.ylabel('$f_{}(t)$'.format(nu), fontsize=25)\n",
    "plt.ylim(0-0.01, ymax*(1+0.1))\n",
    "txt=\"Figure 4. t-test with acceptance/rejection region (green/red).\"\n",
    "fig.text(0.5, -0.1, txt, ha='center', fontsize=20)\n",
    "plt.show()\n"
   ]
  },
  {
   "cell_type": "markdown",
   "metadata": {},
   "source": [
    "### 1.3 t-Test: the Correlation between Predictor $X$ and Response $Y$\n",
    "__Example 1.2__: Is there a relationship (correlation) between the following predictor $X$ and response $Y$? In another word, is the coefficient $w$ in the linear fitting $Y = w X + b$ zero?\n",
    "\n",
    ">__null hypothesis__ $H_0$: There is no relationship between predictor $X$ and response $Y$ ($w=0$)\n",
    "\n",
    ">__alternative hypothesis__ $H_a$: There is some relationship between $X$ and $Y$ ($w\\ne 0$)\n",
    "\n",
    ">__$t$-statistic__: $t =  w / \\rm SE(w)$, where $\\rm SE(w)$ is the standard error of $w$."
   ]
  },
  {
   "cell_type": "code",
   "execution_count": 10,
   "metadata": {
    "scrolled": false
   },
   "outputs": [
    {
     "data": {
      "text/html": [
       "<script>\n",
       "code_show=true; \n",
       "function code_toggle() {\n",
       "    if (code_show){\n",
       "        $('div.cell.code_cell.rendered.selected div.input').hide();\n",
       "    } else {\n",
       "        $('div.cell.code_cell.rendered.selected div.input').show();\n",
       "    }\n",
       "    code_show = !code_show\n",
       "} \n",
       "$( document ).ready(code_toggle);\n",
       "</script>\n",
       "To show/hide the details of the sampling code, click <a href=\"javascript:code_toggle()\">here</a>."
      ],
      "text/plain": [
       "<IPython.core.display.HTML object>"
      ]
     },
     "metadata": {},
     "output_type": "display_data"
    },
    {
     "name": "stdout",
     "output_type": "stream",
     "text": [
      "generating n = 100 data points with\n",
      "slope =  0.8 intercept =  3\n",
      "and Gaussian noise: σ = 1.5\n",
      "y = 0.8x + 3 + N(0,1.5^2)\n",
      "\n",
      "\n"
     ]
    },
    {
     "data": {
      "image/png": "[encoded data removed]",
      "text/plain": [
       "<matplotlib.figure.Figure at 0x114bdda20>"
      ]
     },
     "metadata": {},
     "output_type": "display_data"
    },
    {
     "name": "stdout",
     "output_type": "stream",
     "text": [
      "scipy stats linregress fit:\n",
      "slope =  0.39643027011279186 intercept =  3.254921175662625\n",
      "p_value =  0.5132329433253047 std_err =  0.6041298228719503\n",
      "\n",
      "\n",
      "t-statistic:  0.656200464046315 p-value:  0.5132174388340249\n",
      "\n",
      "\n",
      "statsmodels.api ordinary least squares (ols):\n",
      "                             Test for Constraints                             \n",
      "==============================================================================\n",
      "                 coef    std err          t      P>|t|      [0.025      0.975]\n",
      "------------------------------------------------------------------------------\n",
      "c0             3.2549      0.337      9.651      0.000       2.586       3.924\n",
      "c1             0.3964      0.604      0.656      0.513      -0.802       1.595\n",
      "==============================================================================\n"
     ]
    }
   ],
   "source": [
    "tag = HTML('''<script>\n",
    "code_show=true; \n",
    "function code_toggle() {\n",
    "    if (code_show){\n",
    "        $('div.cell.code_cell.rendered.selected div.input').hide();\n",
    "    } else {\n",
    "        $('div.cell.code_cell.rendered.selected div.input').show();\n",
    "    }\n",
    "    code_show = !code_show\n",
    "} \n",
    "$( document ).ready(code_toggle);\n",
    "</script>\n",
    "To show/hide the details of the sampling code, click <a href=\"javascript:code_toggle()\">here</a>.''')\n",
    "display(tag)\n",
    "#############################################################################################\n",
    "\n",
    "np.random.seed(seed=123)\n",
    "n = 100\n",
    "w1 = 0.8\n",
    "w0 = 3\n",
    "noise = 1.5\n",
    "x = np.random.rand(n)\n",
    "y = w1*x + w0 + noise*np.random.randn(n)\n",
    "\n",
    "print ('generating n =', n, 'data points with')\n",
    "print ('slope = ', w1, 'intercept = ', w0)\n",
    "print ('and Gaussian noise:', u'\\u03C3','=', noise)\n",
    "#print ('y = {}x'.format(w1), '+ {} +'.format(w0),u'\\u03B5')\n",
    "print ('y = {}x'.format(w1), '+ {} +'.format(w0),'N(0,{}^2)'.format(noise))\n",
    "\n",
    "print ('\\n')\n",
    "\n",
    "slope, intercept, r_value, p_value, std_err = stats.linregress(x,y)\n",
    "\n",
    "x0 = [0, 1]\n",
    "y0 = [intercept, slope+intercept]\n",
    "\n",
    "plt.figure()\n",
    "plt.plot(x, y, 'k.', label='data')\n",
    "plt.plot(x0, [w0, w1+w0], 'k-', label='generating')\n",
    "plt.plot(x0, y0, 'r--', label='fit')\n",
    "plt.xlabel('x')\n",
    "plt.ylabel('y')\n",
    "plt.legend()\n",
    "plt.show()\n",
    "\n",
    "print ('scipy stats linregress fit:')\n",
    "print('slope = ', slope, 'intercept = ', intercept ) \n",
    "print('p_value = ', p_value, 'std_err = ', std_err)\n",
    "print('\\n')\n",
    "\n",
    "t_stat = slope / (std_err)\n",
    "p_t = (1- stats.t.cdf(t_stat,n-1))*2\n",
    "print('t-statistic: ', t_stat, 'p-value: ', p_t)\n",
    "print('\\n')\n",
    "\n",
    "xc = sm.add_constant(x)\n",
    "results = sm.OLS(y,xc).fit()\n",
    "print('statsmodels.api ordinary least squares (ols):')\n",
    "#print(results.summary()) \n",
    "#print(results.params)\n",
    "#print(results.tvalues)\n",
    "print(results.t_test([[1, 0], [0, 1]]))"
   ]
  },
  {
   "cell_type": "code",
   "execution_count": null,
   "metadata": {},
   "outputs": [],
   "source": []
  },
  {
   "cell_type": "markdown",
   "metadata": {},
   "source": [
    "### 1.4 Hypothesis Testing and  Binary Classification: Precision-Recall\n",
    "\n",
    "1.4.1 In __hypothesis testing__, we can list an acceptance/rejection table\n",
    "\n",
    " |  | acceptance | rejection | \n",
    " |:-: | :-: | :-: | :-:|\n",
    " |__$H_0$ is true__ | TA  | FR | \n",
    " |__$H_0$ is false__ | FA | TR | \n",
    "where TA, FR, FA, TR are the number of cases of true acceptance, false rejection, false acceptance, true rejection, respectively. The corresponding probability table is\n",
    "\n",
    " |  | acceptance | rejection | \n",
    " |:-: | :-: | :-: | :-:|\n",
    " |__$H_0$ is true__ | $1-\\alpha$  | $\\alpha$ | \n",
    " |__$H_0$ is false__ | $\\beta$ |  $1-\\beta$ | \n",
    " \n",
    "\n",
    "\n",
    ">__type I error__: $H_0$ is rejected when it is true. $P$(type I error) = $\\alpha = \\frac{FR}{TA + FR}$\n",
    "\n",
    ">__type II error__:  $H_0$ is accepted when it is false. $P$(type II error) = $\\beta = \\frac{FA}{FA + TR}$\n",
    "\n",
    "\n",
    " trade-off between $\\alpha$ and $\\beta$: decreasing the size of the rejection region $\\rightarrow$ smaller $\\alpha$ $\\rightarrow$ larger $\\beta$.\n",
    "\n",
    "\n",
    "\n",
    "1.4.2 Consider a __binary classification__ problem with classes: negative \"-\" (null) and positive \"+\" (non-null), the confusion matrix is\n",
    "\n",
    " |  | predicted - (null) | predicted + (non-null) | total|\n",
    " |:-: | :-: | :-: | :-:|\n",
    " |__actual - (null)__ | TN  | FP | N|\n",
    " |__actual + (non-null)__ | FN | TP | P|\n",
    " |__total__ | N* | P*|   N+P=N\\*+P\\*|\n",
    " \n",
    " >__false positive rate__ $= 1-$ __specificity__ $=\\frac{FP}{TN+FP} = \\frac{FP}{N}=$ $P$(type I error) $\\sim \\alpha$\n",
    " \n",
    " >__precision__ $=\\frac{TP}{TP+FP} = \\frac{TP}{P^*}$, the accuracy of positive predictions.\n",
    " \n",
    " >__recall__ $=$ __true positive rate__ $=\\frac{TP}{TP + FN} = \\frac{TP}{P}=$ $1 - P$(type II error) $\\sim 1-\\beta$, fraction of positive instances that are correctly detected.\n",
    " \n",
    " trade-off between precision and recall: increasing precision reduces recall and vice versa. \n",
    " \n",
    " Similarly, trade-off between specificity and recall. \n"
   ]
  },
  {
   "cell_type": "markdown",
   "metadata": {},
   "source": [
    "# 2. Bayesian Inference"
   ]
  },
  {
   "cell_type": "markdown",
   "metadata": {},
   "source": [
    "### 2.1 Bayes' Theorem and Bayesian Hypothesis Testing\n",
    "\n",
    "From the definition of __conditional probability__, the joint probability of events $A$ and $B$\n",
    "\\begin{equation}\n",
    "P(A, B) = P(B|A) P(A) = P(A|B) P(B).\n",
    "\\end{equation}\n",
    "The __Bayes' Theorem__, given $P(B) \\ne 0$, is\n",
    "\\begin{equation}\n",
    " P(A|B) = \\frac{P(B|A)P(A)}{P(B)}.\n",
    "\\end{equation}\n",
    "\n",
    "> $A=H$: hypothesis\n",
    "\n",
    "> $B=D$: data\n",
    "\n",
    "\\begin{equation}\n",
    " P(H|D) = \\frac{P(D|H)P(H)}{P(D)}.\n",
    "\\end{equation}\n",
    "\n",
    "\\begin{equation}\n",
    "{\\rm posterior} \\propto {\\rm likelihood} \\times {\\rm prior}\n",
    "\\end{equation}\n",
    "\n",
    "> __prior probability__: $P(H)$\n",
    "\n",
    "> __posterior probability__: $P(H|D)$\n",
    "\n",
    "> __likelihood__ (sample distribution): $P(D|H)$\n",
    "\n",
    "> __marginal probability__: $P(D) = \\sum_{i} P(D|H_i)P(H_i) $, if $\\{H_i\\}$'s form a mutually exclusive and exhaustive decompostion of the hypothesis space, e.g. $H_0$ and $H_a$.\n",
    "\n",
    "A concrete example, the hypothesis is about the parameter of the distribution. \n",
    "\n",
    "There is an unknown parameter $\\theta$ whose total space is the set $\\Theta$, with the property $\\Theta_0 \\cup \\Theta_a = \\Theta$ and $\\Theta_0 \\cap \\Theta_a = \\emptyset$.\n",
    "> null hypothesis $H_0$: $\\theta \\in \\Theta_0$ \n",
    "\n",
    "> alternative hypothesis $H_a$:  $\\theta \\in \\Theta_a$\n",
    "\n",
    "> observations (data) of random sample ${\\bf X}$: ${\\bf x} =  (x_1, x_2, \\dots, x_n)$.\n",
    "\n",
    "In __classical hypothesis testing__ as described in Section 1, we compute the $p$-value $=P({\\bf X} \\ge |{\\bf x}| ~\\left| \\theta \\in \\Theta_0\\right.)$ and make the decision about whether or not to accept $H_0$ based on a given significance level (type I error probability) $\\alpha = P({\\bf x}\\in R | \\theta \\in \\Theta_0)$, which imposes a __rejection region__ $R=\\{{\\bf x}: H_0 {\\rm~is ~rejected}\\}$. \n",
    "> $H_0$ is rejected if $p$-value $<\\alpha$; accepted, otherwise.\n",
    "\n",
    "In __Bayesian hypothesis testing__, we calculate the ratio\n",
    "\\begin{equation}\n",
    "\\frac{P( \\theta\\in\\Theta_0 | {\\bf x})}{P( \\theta\\in\\Theta_1 | {\\bf x})} =  \\frac{P({\\bf x} | \\theta\\in\\Theta_0)}{P({\\bf x} | \\theta\\in\\Theta_1)} \\times  \\frac{P(\\theta\\in\\Theta_0)}{P( \\theta\\in\\Theta_1)}\n",
    "\\end{equation}\n",
    "\n",
    "\\begin{equation}\n",
    "{\\rm posterior~odds} =  {\\rm likelihood~ratio} \\times {\\rm prior~odds}\n",
    "\\end{equation}\n",
    "\n",
    "and accept $H_0$ if $P( \\theta\\in\\Theta_0 | {\\bf x}) > P( \\theta\\in\\Theta_1 | {\\bf x})$ (or $P( \\theta\\in\\Theta_0 | {\\bf x}) > 1/2$ or $P( \\theta\\in\\Theta_0 | {\\bf x}) > {\\rm any~criterion}$).\n"
   ]
  },
  {
   "cell_type": "markdown",
   "metadata": {},
   "source": [
    "### 2.2 Bayesian Inference using Posterior Sampling: An Example of Fair Coin\n",
    "\n",
    "Suppose you are part of a coin-tossing gambling game and observe a sequence of data $x = [H, T, T, H, H, \\dots]$, where $H$ and $T$ stands for head and tail respectively. If you see $H$ and $T$ appear roughly with the same frequency, you are more convinced that this is a fair coin; while if you see 8 $T$'s out of 10 tosses, you start to doubt that this coin is biased towards tails.\n",
    "\n",
    "Let $h$  be the number of heads  in $n$ tosses, and $\\theta$ be the probability of getting a head in one toss. A fair coin should exactly have  $\\theta = 0.5$. Our goal is to compute the __posterior probability__ density $p(\\theta | (n, h))$ given a data sequence $x$ of $H$'s and $T$'s consisting of $h$ heads out of $n$ tosses, which allows us to evaluate whether this coin is fair or not. \n",
    "\n",
    "The __prior probability__ density before doing any tosses, $p(\\theta)$ reflects our ignorance of information. It could be completely uniform,\n",
    "\\begin{equation}\n",
    "p(\\theta) = 1, ~~~ 0\\le\\theta\\le1,\n",
    "\\end{equation}\n",
    "or centered around 0.5 (with width $\\sim\\delta$), if initially we expect the coin to be fair\n",
    "\\begin{equation}\n",
    "p(\\theta) \\propto e^{-(\\theta - 0.5)^2/\\delta^2}.\n",
    "\\end{equation}\n",
    "\n",
    "We also know that the flips of independent coins are described by the binomial distribution,\n",
    "\\begin{equation}\n",
    "p((n, h)|\\theta) \\propto \\theta^h (1-\\theta)^{n-h},\n",
    "\\end{equation}\n",
    "which is the probability of obtaining $h$ heads in $n$ tosses for a given $\\theta$ (likelihood).\n",
    "\n",
    "The Bayesian theorem tells that\n",
    "\\begin{equation}\n",
    "p(\\theta | (n, h)) \\propto p((n, h)|\\theta) p(\\theta),\n",
    "\\end{equation}\n",
    "in which we neglect the denominator $p((n,h))$ and other numerical prefactors, for they do not affect our inference in this problem. \n",
    "\n",
    "In the following sampling, we generate a sequence of data $x$ with $n$ tosses and a prespecified fixed probability $\\theta_0$. We can see how the posterior probability evolves as we obtain more data. Two types of prior probability are used."
   ]
  },
  {
   "cell_type": "code",
   "execution_count": 11,
   "metadata": {},
   "outputs": [
    {
     "name": "stdout",
     "output_type": "stream",
     "text": [
      "['T' 'H' 'H' 'T' 'T' 'T' 'T' 'T' 'T' 'H' 'H' 'T' 'T' 'H' 'H' 'T' 'H' 'H'\n",
      " 'T' 'T' 'T' 'T' 'T' 'T' 'T' 'H' 'H' 'H' 'H' 'T' 'H' 'T' 'T' 'T' 'T' 'H'\n",
      " 'T' 'T' 'T' 'T' 'T' 'H' 'H' 'T' 'T' 'H' 'T' 'T' 'T' 'T' 'H' 'T' 'T' 'T'\n",
      " 'H' 'H' 'T' 'T' 'T' 'T' 'T' 'T' 'T' 'T' 'T' 'H' 'T' 'H' 'H' 'T' 'H' 'T'\n",
      " 'T' 'T' 'H' 'T' 'T' 'H' 'H' 'T' 'H' 'T' 'T' 'H' 'T' 'T' 'H' 'H' 'H' 'H'\n",
      " 'T' 'T' 'H' 'T' 'T' 'T' 'H' 'H' 'H' 'H']\n"
     ]
    },
    {
     "data": {
      "application/vnd.jupyter.widget-view+json": {
       "model_id": "99a161496f5f4910ab55cb03249a96c8",
       "version_major": 2,
       "version_minor": 0
      },
      "text/html": [
       "<p>Failed to display Jupyter Widget of type <code>interactive</code>.</p>\n",
       "<p>\n",
       "  If you're reading this message in the Jupyter Notebook or JupyterLab Notebook, it may mean\n",
       "  that the widgets JavaScript is still loading. If this message persists, it\n",
       "  likely means that the widgets JavaScript library is either not installed or\n",
       "  not enabled. See the <a href=\"https://ipywidgets.readthedocs.io/en/stable/user_install.html\">Jupyter\n",
       "  Widgets Documentation</a> for setup instructions.\n",
       "</p>\n",
       "<p>\n",
       "  If you're reading this message in another frontend (for example, a static\n",
       "  rendering on GitHub or <a href=\"https://nbviewer.jupyter.org/\">NBViewer</a>),\n",
       "  it may mean that your frontend doesn't currently support widgets.\n",
       "</p>\n"
      ],
      "text/plain": [
       "interactive(children=(IntSlider(value=50, description='n_toss'), IntSlider(value=0, description='prior_type', max=1), Output(layout=Layout(height='350px'))), _dom_classes=('widget-interact',))"
      ]
     },
     "metadata": {},
     "output_type": "display_data"
    }
   ],
   "source": [
    "%matplotlib inline\n",
    "from ipywidgets import interactive\n",
    "\n",
    "n_points = 1000\n",
    "theta = np.linspace(0.0, 1.0, num=n_points)\n",
    "\n",
    "theta0 = 0.4\n",
    "n_totaltoss = 100\n",
    "\n",
    "np.random.seed(seed=123)\n",
    "prob = np.random.rand(n_totaltoss)\n",
    "x_seq = np.where(prob < theta0, 'H', 'T')\n",
    "print(x_seq)\n",
    "\n",
    "def Coin(n_toss,prior_type):\n",
    "    sample = prob[0:n_toss]\n",
    "    if prior_type == 0:\n",
    "        p_prior = np.ones(n_points)\n",
    "    elif prior_type == 1:\n",
    "        p_prior = np.exp(-(theta-0.5)**2/0.01)\n",
    "    plt.figure()\n",
    "    n_head = (sample < theta0).sum()\n",
    "    n_tail = (sample > theta0).sum()\n",
    "    likelihood = theta**n_head*(1.0-theta)**n_tail\n",
    "    p_posterior = likelihood * p_prior\n",
    "    plt.plot(theta, p_posterior, 'k-')\n",
    "    plt.xlabel('$\\\\theta$', fontsize=15)\n",
    "    plt.ylabel('$p(\\\\theta | (n, h))$', fontsize=15)\n",
    "    plt.xlim(0,1)\n",
    "    plt.show()\n",
    "\n",
    "interactive_plot = interactive(Coin, n_toss=(0,n_totaltoss),prior_type=(0,1))\n",
    "output = interactive_plot.children[-1]\n",
    "output.layout.height = '350px'\n",
    "interactive_plot"
   ]
  },
  {
   "cell_type": "markdown",
   "metadata": {},
   "source": [
    "### 2.3 Posterior of Normal Prior: An Example of Conjugate Priors\n",
    "\n",
    "Assume an observation $x\\sim N(\\theta, \\sigma^2)$ with unknown $\\theta$ and known $\\sigma$. Let our prior knowledge about $\\theta$, $p(\\theta), $ is a $N(\\mu, \\tau^2)$ distribution with known $\\mu$ and $\\tau^2$, then the posterior probability  $p(\\theta | x)$ is a $N(\\phi, \\rho^2)$ distribution, where\n",
    "\\begin{equation}\n",
    "\\phi = \\rho^2 (\\frac{x}{\\sigma^2} + \\frac{\\mu}{\\tau^2}),\n",
    "\\end{equation}\n",
    "\\begin{equation}\n",
    "\\rho^{-2} = \\sigma^{-2} + \\tau^{-2}.\n",
    "\\end{equation}\n",
    "\n",
    "__Proof__:\n",
    "\n",
    "> likelihood $p(x|\\theta) = (2\\pi\\sigma^2)^{-1/2}\\exp\\left(-\\frac{(x-\\theta)^2}{2\\sigma^2}\\right)$\n",
    "\n",
    "> prior probability  $p(\\theta) = (2\\pi\\tau^2)^{-1/2}\\exp\\left(-\\frac{(\\theta-\\mu)^2}{2\\tau^2}\\right)$\n",
    "\n",
    "> posterior probability $p(\\theta | x) \\propto  p(x|\\theta) p(\\theta) \\propto \\exp\\left(-\\frac{1}{2}\\left[ \\frac{(x-\\theta)^2}{\\sigma^2} + \\frac{(\\theta-\\mu)^2}{\\tau^2} \\right]\\right)$\n",
    "\n",
    "> \n",
    "\\begin{equation}\n",
    "\\begin{split} \n",
    "\\frac{(x-\\theta)^2}{\\sigma^2} + \\frac{(\\theta-\\mu)^2}{\\tau^2} &= \\left(\\frac{1}{\\sigma^2} + \\frac{1}{\\tau^2}\\right)\\theta^2 - 2\\left( \\frac{x}{\\sigma^2} + \\frac{\\mu}{\\tau^2} \\right)\\theta + \\left( \\frac{x^2}{\\sigma^2} + \\frac{\\mu^2}{\\tau^2}\\right)\\\\\n",
    "&=\\frac{1}{\\rho^2} \\left[\\theta^2-2\\rho^2\\left( \\frac{x}{\\sigma^2} + \\frac{\\mu}{\\tau^2} \\right)\\theta \\right] + \\left( \\frac{x^2}{\\sigma^2} + \\frac{\\mu^2}{\\tau^2}\\right)\\\\\n",
    "&=\\frac{1}{\\rho^2} \\left[\\theta-\\rho^2\\left( \\frac{x}{\\sigma^2} + \\frac{\\mu}{\\tau^2} \\right)\\right]^2 -\\rho^2\\left( \\frac{x}{\\sigma^2} + \\frac{\\mu}{\\tau^2} \\right)^2+ \\left( \\frac{x^2}{\\sigma^2} + \\frac{\\mu^2}{\\tau^2}\\right)\\\\\n",
    "&= \\rho^{-2}(\\theta - \\phi)^2 + \\frac{(x - \\mu)^2}{\\sigma^2 + \\tau^2}\n",
    "\\end{split} \n",
    "\\end{equation}\n",
    "\n",
    "> So, $p(\\theta | x) \\propto  \\exp\\left(-\\frac{(\\theta - \\phi)^2}{2\\rho^2}\\right) \\exp\\left( -\\frac{(x - \\mu)^2}{2(\\sigma^2 + \\tau^2)}\\right)$ and by the normalization condition $\\int p(\\theta | x) d\\theta = 1$, we find\n",
    "\n",
    ">\\begin{equation}\n",
    "p(\\theta | x) = (2\\pi\\rho^2)^{-1/2}  \\exp\\left(-\\frac{(\\theta - \\phi)^2}{2\\rho^2}\\right).\n",
    "\\end{equation}\n"
   ]
  },
  {
   "cell_type": "markdown",
   "metadata": {},
   "source": [
    " ### 2.4 One-Sided Bayesian Hypothesis Testing\n",
    " \n",
    " If a random sample $X\\sim N(\\mu, \\sigma^2)$ with known $\\sigma$ and unknown $\\mu$ to be inferred, and the prior probability  density $p(\\mu) = 1$, then the posterior probability density $p(\\mu | x)$ is $N(x, \\sigma^2)$, because\n",
    "\\begin{equation}\n",
    "  p(\\mu | x) \\propto p(x|\\mu)p(\\mu) = (2\\pi\\sigma^2)^{-1/2} \\exp\\left( - (x - \\mu)^2 / 2\\sigma^2 \\right) = (2\\pi\\sigma^2)^{-1/2} \\exp\\left( - (\\mu - x)^2 / 2\\sigma^2 \\right). \n",
    "\\end{equation}\n",
    "\n",
    "Consider this one-sided hypothesis testing task:\n",
    "\n",
    "> null hypothesis $H_0$: $\\mu \\le \\mu_0$,\n",
    "\n",
    "> alternative hypothesis $H_a$: $\\mu > \\mu_0$.\n",
    "\n",
    "\n",
    "posterior probability of $H_0$:\n",
    "\\begin{equation}\n",
    "P(H_0 | x) = P(\\mu \\le \\mu_0 | x) = \\int_{-\\infty}^{\\mu_0} (2\\pi\\sigma^2)^{-1/2} \\exp\\left( - (\\mu - x)^2 / 2\\sigma^2 \\right) d\\mu = \\Phi\\left(\\frac{\\mu_0 - x}{\\sigma}\\right)\n",
    "\\end{equation}\n",
    "\n",
    "posterior probability of $H_a$:\n",
    "\\begin{equation}\n",
    "P(H_1 | x) = 1-\\Phi\\left(\\frac{\\mu_0 - x}{\\sigma}\\right)\n",
    "\\end{equation}\n",
    "\n",
    "\n",
    "Bayesian hypothesis testing:  accepting $H_0$ if $P(H_0 | x) \\ge \\alpha$ (say $\\alpha=0.05$).\n",
    " \n",
    " \n",
    "In classical hypothesis testing of the sharp null hypothesis $H_0$: $\\mu=\\mu_0$,  \n",
    "\\begin{equation}\n",
    "p{\\rm-value} =P(X\\ge x | \\mu = \\mu_0) = 1-\\Phi\\left(\\frac{x-\\mu_0}{\\sigma}\\right) = \\Phi\\left(\\frac{\\mu_0-x}{\\sigma}\\right) =P(H_0 | x),\n",
    "\\end{equation}\n",
    "and we accept $\\mu = \\mu_0$ if $p$-value $\\ge \\alpha$.\n",
    "\n",
    "Note: the Bayesian hypothesis testing of $\\mu = \\mu_0$ raises some conceptual problems that need to be carefully taken care of. Strictly speaking, for a continuous distribution, $P(\\mu = \\mu_0 | x) = 0$. And practically, $\\mu$ never equals to a certain $\\mu_0$ exactly. The null hypothesis on a interval $\\mu \\in (\\mu_0 - \\epsilon, \\mu_0 + \\epsilon)$ is mathematically more reasonable.\n",
    "\n",
    "To connect with the notation of sample mean $\\bar{X}$ of $n$ random samples  $X_1$, $X_2$, ..., $X_n$  and $z$-test, just replace $X=x$ with $\\bar{X}=\\bar{x}$ and $\\sigma$ with $\\sigma/\\sqrt{n}$, for the central limit theorem guarantees that $\\bar{X}\\sim N(\\mu, \\sigma^2/n)$.\n",
    "\n",
    "\n"
   ]
  },
  {
   "cell_type": "code",
   "execution_count": null,
   "metadata": {},
   "outputs": [],
   "source": []
  },
  {
   "cell_type": "code",
   "execution_count": null,
   "metadata": {},
   "outputs": [],
   "source": []
  }
 ],
 "metadata": {
  "kernelspec": {
   "display_name": "Python 3",
   "language": "python",
   "name": "python3"
  },
  "language_info": {
   "codemirror_mode": {
    "name": "ipython",
    "version": 3
   },
   "file_extension": ".py",
   "mimetype": "text/x-python",
   "name": "python",
   "nbconvert_exporter": "python",
   "pygments_lexer": "ipython3",
   "version": "3.6.4"
  }
 },
 "nbformat": 4,
 "nbformat_minor": 2
}
